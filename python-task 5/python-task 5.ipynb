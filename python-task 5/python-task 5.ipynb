{
 "cells": [
  {
   "cell_type": "markdown",
   "id": "fe176dae",
   "metadata": {},
   "source": [
    "### How to implement destructor in python"
   ]
  },
  {
   "cell_type": "code",
   "execution_count": 1,
   "id": "8b2509fd",
   "metadata": {
    "ExecuteTime": {
     "end_time": "2022-08-20T23:03:13.352230Z",
     "start_time": "2022-08-20T23:03:13.320228Z"
    }
   },
   "outputs": [
    {
     "name": "stdout",
     "output_type": "stream",
     "text": [
      "Mission Completed\n",
      "Mission uncompleted\n"
     ]
    }
   ],
   "source": [
    "class mission:\n",
    "    \n",
    "    # Initializing\n",
    "    def __init__(self):\n",
    "        print(\"Mission Completed\")\n",
    "        \n",
    "    # destructor\n",
    "    def __del__(self):\n",
    "        print(\"Mission uncompleted\")\n",
    "        \n",
    "obj = mission()\n",
    "del obj\n",
    "    "
   ]
  }
 ],
 "metadata": {
  "kernelspec": {
   "display_name": "Python 3 (ipykernel)",
   "language": "python",
   "name": "python3"
  },
  "language_info": {
   "codemirror_mode": {
    "name": "ipython",
    "version": 3
   },
   "file_extension": ".py",
   "mimetype": "text/x-python",
   "name": "python",
   "nbconvert_exporter": "python",
   "pygments_lexer": "ipython3",
   "version": "3.9.7"
  }
 },
 "nbformat": 4,
 "nbformat_minor": 5
}
