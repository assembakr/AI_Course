{
 "cells": [
  {
   "cell_type": "markdown",
   "id": "fc945c2a",
   "metadata": {},
   "source": [
    "## 1. Why and how to use protected visibility in python."
   ]
  },
  {
   "cell_type": "markdown",
   "id": "393e0575",
   "metadata": {},
   "source": [
    "<p>A class in python has three types of modifiers:</p>\n",
    "<ul>public Access Modifier</ul>\n",
    "<ul>Protected Access Modifier</ul>\n",
    "<ul>Private Access Modifier</ul>"
   ]
  },
  {
   "cell_type": "markdown",
   "id": "b93ec188",
   "metadata": {},
   "source": [
    "#### 1. Public Access modifiers\n",
    "<p>All data members and member functions are public, and easily accessibility from any part of the program.</p>"
   ]
  },
  {
   "cell_type": "markdown",
   "id": "900b183d",
   "metadata": {},
   "source": [
    "#### 2. Protected Access Modifiers\n",
    "<p>The protected members of a class are only accessibility to a class derived from it.<br>\n",
    "   This symbol '_' before the data member make it protected. </p>"
   ]
  },
  {
   "cell_type": "markdown",
   "id": "00c86b71",
   "metadata": {},
   "source": [
    "#### 3. Private Access Modifiers\n",
    "<p>Most secure access modifier. <br>\n",
    "   The private members of a class are accessible only within the class. <br>\n",
    "   can be declared by adding double underscore '__' symbol before the data member. </p>"
   ]
  },
  {
   "cell_type": "markdown",
   "id": "23fdd9eb",
   "metadata": {},
   "source": [
    "<p> <i> - Implementation using python </i> </p>"
   ]
  },
  {
   "cell_type": "code",
   "execution_count": 6,
   "id": "530087f7",
   "metadata": {
    "ExecuteTime": {
     "end_time": "2022-09-04T10:54:08.175189Z",
     "start_time": "2022-09-04T10:54:08.161647Z"
    }
   },
   "outputs": [],
   "source": [
    "class Super:\n",
    "    #public data member\n",
    "    name1 = None\n",
    "    \n",
    "    #protected data member\n",
    "    _name2 = None\n",
    "    \n",
    "    #private data member\n",
    "    __name3 = None\n",
    "    \n",
    "    #constructor\n",
    "    def __init__(self, name1, name2, name3):\n",
    "        self.name1 = name1\n",
    "        self._name2 = name2\n",
    "        self.__name3 = name3\n",
    "        \n",
    "    def AccessPrivate(self):\n",
    "        print(self.__name3)\n",
    "    "
   ]
  },
  {
   "cell_type": "code",
   "execution_count": 9,
   "id": "b47e22ba",
   "metadata": {
    "ExecuteTime": {
     "end_time": "2022-09-04T10:55:45.082836Z",
     "start_time": "2022-09-04T10:55:45.064684Z"
    }
   },
   "outputs": [],
   "source": [
    "a = Super(\"Assem\", \"Mohamed\", \"Bakr\")"
   ]
  },
  {
   "cell_type": "code",
   "execution_count": 11,
   "id": "66dc1a8c",
   "metadata": {
    "ExecuteTime": {
     "end_time": "2022-09-04T10:56:35.871974Z",
     "start_time": "2022-09-04T10:56:35.859297Z"
    }
   },
   "outputs": [
    {
     "data": {
      "text/plain": [
       "'Assem'"
      ]
     },
     "execution_count": 11,
     "metadata": {},
     "output_type": "execute_result"
    }
   ],
   "source": [
    "a.name1      # access public data easily"
   ]
  },
  {
   "cell_type": "code",
   "execution_count": 12,
   "id": "db320222",
   "metadata": {
    "ExecuteTime": {
     "end_time": "2022-09-04T10:57:17.368715Z",
     "start_time": "2022-09-04T10:57:17.362706Z"
    }
   },
   "outputs": [
    {
     "data": {
      "text/plain": [
       "'Mohamed'"
      ]
     },
     "execution_count": 12,
     "metadata": {},
     "output_type": "execute_result"
    }
   ],
   "source": [
    "a._name2     # access protected data easily"
   ]
  },
  {
   "cell_type": "code",
   "execution_count": 13,
   "id": "6b715822",
   "metadata": {
    "ExecuteTime": {
     "end_time": "2022-09-04T10:57:28.044335Z",
     "start_time": "2022-09-04T10:57:28.022328Z"
    }
   },
   "outputs": [
    {
     "ename": "AttributeError",
     "evalue": "'Super' object has no attribute '__name3'",
     "output_type": "error",
     "traceback": [
      "\u001b[1;31m---------------------------------------------------------------------------\u001b[0m",
      "\u001b[1;31mAttributeError\u001b[0m                            Traceback (most recent call last)",
      "\u001b[1;32m~\\AppData\\Local\\Temp/ipykernel_6684/1839052440.py\u001b[0m in \u001b[0;36m<module>\u001b[1;34m\u001b[0m\n\u001b[1;32m----> 1\u001b[1;33m \u001b[0ma\u001b[0m\u001b[1;33m.\u001b[0m\u001b[0m__name3\u001b[0m\u001b[1;33m\u001b[0m\u001b[1;33m\u001b[0m\u001b[0m\n\u001b[0m",
      "\u001b[1;31mAttributeError\u001b[0m: 'Super' object has no attribute '__name3'"
     ]
    }
   ],
   "source": [
    "a.__name3    # we can not access private data directly as we did with public and protected"
   ]
  },
  {
   "cell_type": "markdown",
   "id": "68bcfc9b",
   "metadata": {},
   "source": [
    "<p> As you can see in the code above, we can not access the private data in this way, <b> but </b>we can access it in the same class or other sub classes using a function as the code below. <br>\n",
    "    Or, using this expression _base class__method or variable name. </p>\n",
    "    "
   ]
  },
  {
   "cell_type": "code",
   "execution_count": 14,
   "id": "3094e3c1",
   "metadata": {
    "ExecuteTime": {
     "end_time": "2022-09-04T10:58:47.047227Z",
     "start_time": "2022-09-04T10:58:47.026208Z"
    }
   },
   "outputs": [
    {
     "name": "stdout",
     "output_type": "stream",
     "text": [
      "Bakr\n"
     ]
    }
   ],
   "source": [
    "a.AccessPrivate()   "
   ]
  },
  {
   "cell_type": "code",
   "execution_count": 16,
   "id": "91ed587e",
   "metadata": {
    "ExecuteTime": {
     "end_time": "2022-09-04T11:06:43.943797Z",
     "start_time": "2022-09-04T11:06:43.926783Z"
    }
   },
   "outputs": [
    {
     "data": {
      "text/plain": [
       "'Bakr'"
      ]
     },
     "execution_count": 16,
     "metadata": {},
     "output_type": "execute_result"
    }
   ],
   "source": [
    "a._Super__name3"
   ]
  },
  {
   "cell_type": "markdown",
   "id": "eb70413f",
   "metadata": {},
   "source": [
    "## 2. How do you access a private member from a super-class in a sub class?"
   ]
  },
  {
   "cell_type": "code",
   "execution_count": 17,
   "id": "d0f213d3",
   "metadata": {
    "ExecuteTime": {
     "end_time": "2022-09-04T11:09:36.527279Z",
     "start_time": "2022-09-04T11:09:36.518497Z"
    }
   },
   "outputs": [],
   "source": [
    "class Sub(Super):\n",
    "    pass"
   ]
  },
  {
   "cell_type": "code",
   "execution_count": 18,
   "id": "5f1100dd",
   "metadata": {
    "ExecuteTime": {
     "end_time": "2022-09-04T11:10:14.845264Z",
     "start_time": "2022-09-04T11:10:14.840272Z"
    }
   },
   "outputs": [],
   "source": [
    "b = Sub(\"Assem\", \"Mohamed\", \"bakr\")"
   ]
  },
  {
   "cell_type": "code",
   "execution_count": 20,
   "id": "9782a1ae",
   "metadata": {
    "ExecuteTime": {
     "end_time": "2022-09-04T11:10:47.600492Z",
     "start_time": "2022-09-04T11:10:47.591484Z"
    }
   },
   "outputs": [
    {
     "data": {
      "text/plain": [
       "'Assem'"
      ]
     },
     "execution_count": 20,
     "metadata": {},
     "output_type": "execute_result"
    }
   ],
   "source": [
    "b.name1          # we can access public data in sub class"
   ]
  },
  {
   "cell_type": "code",
   "execution_count": 21,
   "id": "63d3e7cd",
   "metadata": {
    "ExecuteTime": {
     "end_time": "2022-09-04T11:11:11.192826Z",
     "start_time": "2022-09-04T11:11:11.183827Z"
    }
   },
   "outputs": [
    {
     "data": {
      "text/plain": [
       "'Mohamed'"
      ]
     },
     "execution_count": 21,
     "metadata": {},
     "output_type": "execute_result"
    }
   ],
   "source": [
    "b._name2        # we can access protected data in sub class"
   ]
  },
  {
   "cell_type": "code",
   "execution_count": 22,
   "id": "64274253",
   "metadata": {
    "ExecuteTime": {
     "end_time": "2022-09-04T11:11:45.150723Z",
     "start_time": "2022-09-04T11:11:45.128983Z"
    }
   },
   "outputs": [
    {
     "ename": "AttributeError",
     "evalue": "'Sub' object has no attribute '__name3'",
     "output_type": "error",
     "traceback": [
      "\u001b[1;31m---------------------------------------------------------------------------\u001b[0m",
      "\u001b[1;31mAttributeError\u001b[0m                            Traceback (most recent call last)",
      "\u001b[1;32m~\\AppData\\Local\\Temp/ipykernel_6684/2492557978.py\u001b[0m in \u001b[0;36m<module>\u001b[1;34m\u001b[0m\n\u001b[1;32m----> 1\u001b[1;33m \u001b[0mb\u001b[0m\u001b[1;33m.\u001b[0m\u001b[0m__name3\u001b[0m        \u001b[1;31m# we can not access private data in sub class\u001b[0m\u001b[1;33m\u001b[0m\u001b[1;33m\u001b[0m\u001b[0m\n\u001b[0m",
      "\u001b[1;31mAttributeError\u001b[0m: 'Sub' object has no attribute '__name3'"
     ]
    }
   ],
   "source": [
    "b.__name3        # we can not access private data in sub class "
   ]
  },
  {
   "cell_type": "code",
   "execution_count": 26,
   "id": "5cf818b3",
   "metadata": {
    "ExecuteTime": {
     "end_time": "2022-09-04T11:14:37.842161Z",
     "start_time": "2022-09-04T11:14:37.831143Z"
    }
   },
   "outputs": [
    {
     "name": "stdout",
     "output_type": "stream",
     "text": [
      "bakr\n"
     ]
    }
   ],
   "source": [
    "b.AccessPrivate()    # the private data are accessible using a function in class"
   ]
  },
  {
   "cell_type": "code",
   "execution_count": 27,
   "id": "39bad37f",
   "metadata": {
    "ExecuteTime": {
     "end_time": "2022-09-04T11:15:22.973711Z",
     "start_time": "2022-09-04T11:15:22.947464Z"
    }
   },
   "outputs": [
    {
     "data": {
      "text/plain": [
       "'bakr'"
      ]
     },
     "execution_count": 27,
     "metadata": {},
     "output_type": "execute_result"
    }
   ],
   "source": [
    "b._Super__name3     # also, accessible using the expression we mentioned above"
   ]
  }
 ],
 "metadata": {
  "kernelspec": {
   "display_name": "Python 3 (ipykernel)",
   "language": "python",
   "name": "python3"
  },
  "language_info": {
   "codemirror_mode": {
    "name": "ipython",
    "version": 3
   },
   "file_extension": ".py",
   "mimetype": "text/x-python",
   "name": "python",
   "nbconvert_exporter": "python",
   "pygments_lexer": "ipython3",
   "version": "3.9.7"
  }
 },
 "nbformat": 4,
 "nbformat_minor": 5
}
