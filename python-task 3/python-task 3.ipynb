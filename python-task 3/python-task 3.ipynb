{
 "cells": [
  {
   "cell_type": "markdown",
   "id": "b52f87c9",
   "metadata": {},
   "source": [
    "## this task to understand the differnce between the recursion and iteration way."
   ]
  },
  {
   "cell_type": "markdown",
   "id": "7075e233",
   "metadata": {},
   "source": [
    "claculate the factorial for non-negative numbers using the iteration (for loop)"
   ]
  },
  {
   "cell_type": "code",
   "execution_count": 9,
   "id": "5d545a25",
   "metadata": {
    "ExecuteTime": {
     "end_time": "2022-08-10T11:27:32.256752Z",
     "start_time": "2022-08-10T11:27:30.987599Z"
    }
   },
   "outputs": [
    {
     "name": "stdout",
     "output_type": "stream",
     "text": [
      "Enter a number: 5\n"
     ]
    },
    {
     "data": {
      "text/plain": [
       "120"
      ]
     },
     "execution_count": 9,
     "metadata": {},
     "output_type": "execute_result"
    }
   ],
   "source": [
    "def calc_factorial_iteration(n):\n",
    "    if n == 0:\n",
    "        return 1\n",
    "    \n",
    "    res = 1\n",
    "    for i in range(1, n+1, 1):\n",
    "        res *= (i)\n",
    "    return res\n",
    "n = int(input(\"Enter a number: \"))\n",
    "calc_factorial_iteration(n)\n",
    "    "
   ]
  },
  {
   "cell_type": "markdown",
   "id": "a43344c5",
   "metadata": {},
   "source": [
    "claculate the factorial for non-negative numbers using the recursion"
   ]
  },
  {
   "cell_type": "code",
   "execution_count": 8,
   "id": "1b427683",
   "metadata": {
    "ExecuteTime": {
     "end_time": "2022-08-10T11:27:24.475067Z",
     "start_time": "2022-08-10T11:27:23.186312Z"
    }
   },
   "outputs": [
    {
     "name": "stdout",
     "output_type": "stream",
     "text": [
      "Enter a number: 5\n"
     ]
    },
    {
     "data": {
      "text/plain": [
       "120"
      ]
     },
     "execution_count": 8,
     "metadata": {},
     "output_type": "execute_result"
    }
   ],
   "source": [
    "def calc_dactorial_recursion(n):\n",
    "    if n == 0:\n",
    "        return 1\n",
    "    \n",
    "    res = n * calc_dactorial(n-1)\n",
    "    return res\n",
    "\n",
    "n = int(input(\"Enter a number: \"))\n",
    "calc_dactorial_recursion(n)"
   ]
  },
  {
   "cell_type": "markdown",
   "id": "69896a65",
   "metadata": {},
   "source": [
    "python program for binary search (iterative) "
   ]
  },
  {
   "cell_type": "code",
   "execution_count": 10,
   "id": "290bdf40",
   "metadata": {
    "ExecuteTime": {
     "end_time": "2022-08-10T11:32:07.336667Z",
     "start_time": "2022-08-10T11:32:07.317676Z"
    }
   },
   "outputs": [
    {
     "name": "stdout",
     "output_type": "stream",
     "text": [
      "Element is present at index 3\n"
     ]
    }
   ],
   "source": [
    "def binary_search(arr, x):\n",
    "    low = 0\n",
    "    high = len(arr) - 1\n",
    "    mid = 0\n",
    "\n",
    "    while low <= high:\n",
    "\n",
    "        mid = (high + low) // 2\n",
    "\n",
    "        if arr[mid] < x:\n",
    "            low = mid + 1\n",
    "\n",
    "\n",
    "        elif arr[mid] > x:\n",
    "            high = mid - 1\n",
    "\n",
    "\n",
    "        else:\n",
    "            return mid\n",
    "\n",
    "\n",
    "    return -1\n",
    "\n",
    "arr = [ 2, 3, 4, 10, 40 ]\n",
    "x = 10\n",
    "\n",
    "result = binary_search(arr, x)\n",
    "\n",
    "if result != -1:\n",
    "    print(\"the index of the element in this array is: \", str(result))\n",
    "else:\n",
    "    print(\"Element doesn't exit in this array\")\n"
   ]
  },
  {
   "cell_type": "code",
   "execution_count": null,
   "id": "b0cbb018",
   "metadata": {},
   "outputs": [],
   "source": []
  }
 ],
 "metadata": {
  "kernelspec": {
   "display_name": "Python 3 (ipykernel)",
   "language": "python",
   "name": "python3"
  },
  "language_info": {
   "codemirror_mode": {
    "name": "ipython",
    "version": 3
   },
   "file_extension": ".py",
   "mimetype": "text/x-python",
   "name": "python",
   "nbconvert_exporter": "python",
   "pygments_lexer": "ipython3",
   "version": "3.9.7"
  }
 },
 "nbformat": 4,
 "nbformat_minor": 5
}
