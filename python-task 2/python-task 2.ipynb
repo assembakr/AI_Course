{
 "cells": [
  {
   "cell_type": "code",
   "execution_count": 85,
   "id": "859b71e8",
   "metadata": {
    "ExecuteTime": {
     "end_time": "2022-08-06T21:45:21.061516Z",
     "start_time": "2022-08-06T21:45:21.049885Z"
    }
   },
   "outputs": [
    {
     "name": "stdout",
     "output_type": "stream",
     "text": [
      "1505, 1540, 1575, 1610, 1645, 1680, 1715, 1750, 1785, 1820, 1855, 1890, 1925, 1960, 1995, 2030, 2065, 2100, 2135, 2170, 2205, 2240, 2275, 2310, 2345, 2380, 2415, 2450, 2485, 2520, 2555, 2590, 2625, 2660, 2695, "
     ]
    }
   ],
   "source": [
    "#problem 1\n",
    "\n",
    "for i in range(1500, 2701):\n",
    "    if (i%7==0) and (i%5==0):\n",
    "        print(i, end=\", \")"
   ]
  },
  {
   "cell_type": "code",
   "execution_count": 6,
   "id": "2cd6d711",
   "metadata": {
    "ExecuteTime": {
     "end_time": "2022-08-06T13:45:03.642155Z",
     "start_time": "2022-08-06T13:45:00.450940Z"
    }
   },
   "outputs": [
    {
     "name": "stdout",
     "output_type": "stream",
     "text": [
      "Enter f to conert to fahrenheit:  \n",
      "Enter c to convert to celsuis: f\n",
      "Enter the temperature: 26\n",
      "the temperature in fahrenheit is  78.8\n"
     ]
    }
   ],
   "source": [
    "#problem 2\n",
    "\n",
    "#selecting the type of converting\n",
    "convert_to = input(\"Enter f to conert to fahrenheit:  \\nEnter c to convert to celsuis: \")\n",
    "\n",
    "#getting the temp from the user\n",
    "temp = float(input(\"Enter the temperature: \"))\n",
    "\n",
    "#converting from celsuis to fahrenheit\n",
    "if (convert_to == \"f\"):\n",
    "    output = (temp * 9/5) + 32\n",
    "    print(\"the temperature in fahrenheit is \", output)\n",
    "\n",
    "#converting from fahrenheit to celsuis\n",
    "if (convert_to == \"c\"):\n",
    "    output = (temp - 32) * (5/9)\n",
    "    print(\"the temperature in celsuis is: \", output)\n",
    "    \n",
    "\n"
   ]
  },
  {
   "cell_type": "code",
   "execution_count": 84,
   "id": "b85ec9f8",
   "metadata": {
    "ExecuteTime": {
     "end_time": "2022-08-06T21:43:02.981227Z",
     "start_time": "2022-08-06T21:43:02.958123Z"
    }
   },
   "outputs": [
    {
     "name": "stdout",
     "output_type": "stream",
     "text": [
      "\n",
      "* \n",
      "* * \n",
      "* * * \n",
      "* * * * \n",
      "* * * * * \n",
      "* * * * \n",
      "* * * \n",
      "* * \n",
      "* \n"
     ]
    }
   ],
   "source": [
    "#problem 3\n",
    "\n",
    "def pattern():\n",
    "    n = 5\n",
    "    for i in range(n):\n",
    "        for k in range(i):\n",
    "            print(\"*\", end = \" \")\n",
    "        print(\"\")\n",
    "    for i in range(n, 0, -1):\n",
    "        for k in range(i):\n",
    "            print(\"*\", end = ' ')\n",
    "        print(\"\")\n",
    "        \n",
    "pattern()"
   ]
  },
  {
   "cell_type": "code",
   "execution_count": 4,
   "id": "c20793ef",
   "metadata": {
    "ExecuteTime": {
     "end_time": "2022-08-06T19:42:48.210566Z",
     "start_time": "2022-08-06T19:42:44.670571Z"
    }
   },
   "outputs": [
    {
     "name": "stdout",
     "output_type": "stream",
     "text": [
      "Enter a word: assem\n"
     ]
    },
    {
     "data": {
      "text/plain": [
       "'messa'"
      ]
     },
     "execution_count": 4,
     "metadata": {},
     "output_type": "execute_result"
    }
   ],
   "source": [
    "#problem 4\n",
    "\n",
    "def reverse():\n",
    "    txt = input(\"Enter a word: \")\n",
    "    txt = txt[::-1]\n",
    "    return txt\n",
    "reverse()"
   ]
  },
  {
   "cell_type": "code",
   "execution_count": 14,
   "id": "4c44cf69",
   "metadata": {
    "ExecuteTime": {
     "end_time": "2022-08-06T20:07:29.769542Z",
     "start_time": "2022-08-06T20:07:24.903205Z"
    }
   },
   "outputs": [
    {
     "name": "stdout",
     "output_type": "stream",
     "text": [
      "Enter a number: 8\n",
      "Enter a number: 66\n",
      "Enter a number: 150\n"
     ]
    },
    {
     "data": {
      "text/plain": [
       "150.0"
      ]
     },
     "execution_count": 14,
     "metadata": {},
     "output_type": "execute_result"
    }
   ],
   "source": [
    "#problem 5\n",
    "\n",
    "def max_of_three():\n",
    "    list = []    \n",
    "    for i in range(0, 3):\n",
    "        nums = float(input(\"Enter a number: \"))\n",
    "        list.append(nums)\n",
    "    x = max(list)\n",
    "    return x\n",
    "max_of_three()\n",
    "    "
   ]
  },
  {
   "cell_type": "code",
   "execution_count": 28,
   "id": "e9635093",
   "metadata": {
    "ExecuteTime": {
     "end_time": "2022-08-06T20:32:07.150413Z",
     "start_time": "2022-08-06T20:32:07.135407Z"
    }
   },
   "outputs": [
    {
     "data": {
      "text/plain": [
       "50"
      ]
     },
     "execution_count": 28,
     "metadata": {},
     "output_type": "execute_result"
    }
   ],
   "source": [
    "#problem 6\n",
    "\n",
    "def summation(nums):\n",
    "    res = 0\n",
    "    for i in nums:\n",
    "        res += i\n",
    "    return res\n",
    "summation( (20, 15, 10, 5) )\n",
    "    \n"
   ]
  },
  {
   "cell_type": "code",
   "execution_count": 32,
   "id": "c217b97b",
   "metadata": {
    "ExecuteTime": {
     "end_time": "2022-08-06T20:37:54.566437Z",
     "start_time": "2022-08-06T20:37:54.554739Z"
    }
   },
   "outputs": [
    {
     "name": "stdout",
     "output_type": "stream",
     "text": [
      "0\n",
      "1\n",
      "2\n",
      "4\n",
      "5\n"
     ]
    }
   ],
   "source": [
    "#problem 7\n",
    "\n",
    "def printing_nums():\n",
    "    for i in range(7):\n",
    "        if (i == 3 or i == 6):\n",
    "            continue\n",
    "        print(i) \n",
    "\n",
    "printing_nums()\n",
    "        "
   ]
  },
  {
   "cell_type": "code",
   "execution_count": 46,
   "id": "cc565643",
   "metadata": {
    "ExecuteTime": {
     "end_time": "2022-08-06T20:52:22.284961Z",
     "start_time": "2022-08-06T20:52:19.502932Z"
    }
   },
   "outputs": [
    {
     "name": "stdout",
     "output_type": "stream",
     "text": [
      "Enter a number to calulate the factorial: -6\n"
     ]
    },
    {
     "data": {
      "text/plain": [
       "'please positive number only'"
      ]
     },
     "execution_count": 46,
     "metadata": {},
     "output_type": "execute_result"
    }
   ],
   "source": [
    "#problem 8\n",
    "\n",
    "def factorial_clac(num):\n",
    "    res = 1\n",
    "    if num == 0:\n",
    "        return 1\n",
    "    elif(num < 0):\n",
    "        return \"please positive numbers only\"\n",
    "    \n",
    "    while(num > 0):\n",
    "        res *= num\n",
    "        num -= 1\n",
    "    return res\n",
    "num = int(input(\"Enter a number to calulate the factorial: \"))        \n",
    "factorial_clac(num)"
   ]
  },
  {
   "cell_type": "code",
   "execution_count": 65,
   "id": "b6c82a07",
   "metadata": {
    "ExecuteTime": {
     "end_time": "2022-08-06T21:20:04.248965Z",
     "start_time": "2022-08-06T21:20:04.239963Z"
    }
   },
   "outputs": [
    {
     "data": {
      "text/plain": [
       "{2, 5, 6, 7}"
      ]
     },
     "execution_count": 65,
     "metadata": {},
     "output_type": "execute_result"
    }
   ],
   "source": [
    "#problem 9\n",
    "def unique_list(n):\n",
    "    list = []\n",
    "    for i in n:\n",
    "        list.append(i)\n",
    "    sampleset = set()\n",
    "    for i in list:\n",
    "        sampleset.add(i)\n",
    "    return sampleset \n",
    "unique_list((2,2,2, 6, 5, 6, 7, 7))"
   ]
  },
  {
   "cell_type": "code",
   "execution_count": 76,
   "id": "7a24f26a",
   "metadata": {
    "ExecuteTime": {
     "end_time": "2022-08-06T21:36:21.829622Z",
     "start_time": "2022-08-06T21:36:14.679168Z"
    }
   },
   "outputs": [
    {
     "name": "stdout",
     "output_type": "stream",
     "text": [
      "Enter a number: 23\n",
      "Enter the first number: 5\n",
      "Enter the second number: 4\n",
      "the result of adding the numbers is:  38.0\n",
      "the product of the x and y is:  20.0\n"
     ]
    }
   ],
   "source": [
    "#problem 10\n",
    "def lambda_add(n):\n",
    "    res = 15 + n\n",
    "    return res\n",
    "n = float(input(\"Enter a number: \"))\n",
    "\n",
    "\n",
    "def lambda_prod(x, y):\n",
    "    prod = x * y\n",
    "    return prod\n",
    "x = float(input(\"Enter the first number: \"))\n",
    "y = float(input(\"Enter the second number: \"))\n",
    "\n",
    "print(\"the result of adding the numbers is: \", lambda_add(n))\n",
    "print(\"the product of the x and y is: \", lambda_prod(x, y))\n",
    "\n"
   ]
  }
 ],
 "metadata": {
  "kernelspec": {
   "display_name": "Python 3 (ipykernel)",
   "language": "python",
   "name": "python3"
  },
  "language_info": {
   "codemirror_mode": {
    "name": "ipython",
    "version": 3
   },
   "file_extension": ".py",
   "mimetype": "text/x-python",
   "name": "python",
   "nbconvert_exporter": "python",
   "pygments_lexer": "ipython3",
   "version": "3.9.7"
  }
 },
 "nbformat": 4,
 "nbformat_minor": 5
}
